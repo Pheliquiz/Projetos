{
 "cells": [
  {
   "cell_type": "markdown",
   "id": "794c28a2",
   "metadata": {},
   "source": [
    "# Importação Biblioteca Os\n",
    "#### Biblioteca Os - \n",
    "ela é uma biblioteca de comandos do sistema operacional que vai te auxiliar a fazer algumas operações dentro do seu computador"
   ]
  },
  {
   "cell_type": "code",
   "execution_count": 3,
   "id": "c5195d1c",
   "metadata": {},
   "outputs": [],
   "source": [
    "import os # importação da biblioteca"
   ]
  },
  {
   "cell_type": "code",
   "execution_count": 6,
   "id": "a110ea6e",
   "metadata": {},
   "outputs": [],
   "source": [
    "def main(a):\n",
    "    os.chdir(caminho_pasta)\n",
    "    #os.chdir troca o diretório no qual o python vai trabalhar\n",
    "    \n",
    "    for f in os.listdir():\n",
    "        file_name, f_ext = os.path.splitext(f)\n",
    "        \n",
    "        print(file_name.split('-'))\n",
    "        \n",
    "        f_name, f_num, f_tittle, f_autor = file_name.split('-')\n",
    "        \n",
    "        #print(f\"{f_num}-{f_tittle}-{f_autor}\")\n",
    "        \n",
    "        f_name = f_name.strip()\n",
    "        f_num = f_num.strip()\n",
    "        f_tittle = f_tittle.strip()\n",
    "        \n",
    "        #print(f\"{f_num}-{f_tittle}-{f_autor}\")\n",
    "        \n",
    "        #new_name =  (f'{f_num}-{f_tittle}{f_autor}{f_ext}')\n",
    "\n",
    "        #os.rename(f, new_name)\n",
    "        \n",
    "        \n",
    "        "
   ]
  },
  {
   "cell_type": "markdown",
   "id": "f27b57c4",
   "metadata": {},
   "source": [
    "### Renomeador\n"
   ]
  },
  {
   "cell_type": "code",
   "execution_count": 4,
   "id": "ebf83afd",
   "metadata": {},
   "outputs": [
    {
     "name": "stdout",
     "output_type": "stream",
     "text": [
      "['ERRO  4', ' 01 ', ' Intro (America The Beautiful) ', ' Kirk Franklin']\n",
      "01-Intro (America The Beautiful)- Kirk Franklin\n",
      "['ERRO  7 ', ' 19 ', '  Sunshine ', ' Kirk Franklin']\n",
      "19-Sunshine- Kirk Franklin\n",
      "['ERRO ', ' 02 ', '  Looking For You ', ' Kirk Franklin']\n",
      "02-Looking For You- Kirk Franklin\n",
      "['ERRO ', ' 03 ', ' Hero ', ' Kirk Franklin']\n",
      "03-Hero- Kirk Franklin\n",
      "['ERRO ', ' 04 ', '  Interlude 1 ', ' Kirk Franklin']\n",
      "04-Interlude 1- Kirk Franklin\n",
      "['ERRO ', ' 05 ', ' Let It Go ', ' Kirk Franklin']\n",
      "05-Let It Go- Kirk Franklin\n",
      "['ERRO ', ' 06 ', '  The Process ', ' Kirk Franklin']\n",
      "06-The Process- Kirk Franklin\n",
      "['ERRO ', ' 07 ', '  Imagine Me ', ' Kirk Franklin']\n",
      "07-Imagine Me- Kirk Franklin\n",
      "['ERRO ', ' 08 ', \"  Could've Been \", ' Kirk Franklin']\n",
      "08-Could've Been- Kirk Franklin\n",
      "['ERRO ', ' 09 ', '  Better ', ' Kirk Franklin']\n",
      "09-Better- Kirk Franklin\n",
      "['ERRO ', ' 10 ', '  Afterwhile ', ' Kirk Franklin']\n",
      "10-Afterwhile- Kirk Franklin\n",
      "['ERRO ', ' 11 ', ' Brokenhearted ', ' Kirk Franklin']\n",
      "11-Brokenhearted- Kirk Franklin\n",
      "['ERRO ', ' 12 ', ' Without You ', ' Kirk Franklin']\n",
      "12-Without You- Kirk Franklin\n",
      "['ERRO ', ' 13 ', ' Keep Your Head ', ' Kirk Franklin']\n",
      "13-Keep Your Head- Kirk Franklin\n",
      "['ERRO ', ' 14 ', '  Why ', ' Kirk Franklin']\n",
      "14-Why- Kirk Franklin\n",
      "['ERRO ', ' 15 ', ' First Love ', ' Kirk Franklin']\n",
      "15-First Love- Kirk Franklin\n",
      "['ERRO ', ' 16 ', ' The Appeal ', ' Kirk Franklin']\n",
      "16-The Appeal- Kirk Franklin\n",
      "['ERRO 09 ', ' 17 ', '  Brokenhearted (Reprise) ', ' Kirk Franklin']\n",
      "17-Brokenhearted (Reprise)- Kirk Franklin\n",
      "['ERRO 3 ', ' 20 ', ' Outro ', ' Kirk Franklin']\n",
      "20-Outro- Kirk Franklin\n",
      "['ERRO 5  ', ' 18 ', '  Interlude 2', ' Kirk Franklin']\n",
      "18-Interlude 2- Kirk Franklin\n"
     ]
    }
   ],
   "source": [
    "caminho_pasta = r\"C:\\Users\\2015a\\Desktop\\Teste\" \n",
    "# caminho_pasta = str(input('Digite o caminho: '))\n",
    "main(caminho_pasta)"
   ]
  }
 ],
 "metadata": {
  "kernelspec": {
   "display_name": "Python 3 (ipykernel)",
   "language": "python",
   "name": "python3"
  },
  "language_info": {
   "codemirror_mode": {
    "name": "ipython",
    "version": 3
   },
   "file_extension": ".py",
   "mimetype": "text/x-python",
   "name": "python",
   "nbconvert_exporter": "python",
   "pygments_lexer": "ipython3",
   "version": "3.9.7"
  }
 },
 "nbformat": 4,
 "nbformat_minor": 5
}
